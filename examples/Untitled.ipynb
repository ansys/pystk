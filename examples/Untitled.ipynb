{
 "cells": [
  {
   "cell_type": "code",
   "execution_count": 1,
   "id": "d75588a5-c69d-43a1-a43c-2af61662f5fb",
   "metadata": {},
   "outputs": [],
   "source": [
    "from ansys.stk.core.stkengine import STKEngine\n",
    "\n",
    "\n",
    "stk = STKEngine.start_application(no_graphics=False)\n",
    "root = stk.new_object_root()"
   ]
  },
  {
   "cell_type": "code",
   "execution_count": 2,
   "id": "150e9b64-d55e-4f10-8773-d707e7a063a6",
   "metadata": {},
   "outputs": [],
   "source": [
    "from ansys.stk.core.stkobjects import STKObjectType, PropagatorType, ConstraintLighting, AccessConstraintType\n",
    "\n",
    "root.new_scenario(\"GraphTest\")\n",
    "scenario = root.current_scenario\n",
    "scenario.set_time_period(\"5 Jun 2022\", \"6 Jun 2022\")\n",
    "\n",
    "facility = scenario.children.new(STKObjectType.FACILITY, \"Facility\")\n",
    "facility.position.assign_planetodetic(39.95, -75.16, 0)\n",
    "\n",
    "\n",
    "satellite = scenario.children.new(STKObjectType.SATELLITE, \"Satellite\")\n",
    "satellite.set_propagator_type(PropagatorType.SGP4)\n",
    "propagator = satellite.propagator\n",
    "propagator.common_tasks.add_segments_from_online_source(\"25544\")\n",
    "propagator.propagate()\n",
    "\n",
    "lighting_constraint = satellite.access_constraints.add_constraint(\n",
    "    AccessConstraintType.LIGHTING\n",
    ")\n",
    "lighting_constraint.condition = ConstraintLighting.DIRECT_SUN\n",
    "\n",
    "access = facility.get_access_to_object(satellite)\n",
    "access.compute_access()"
   ]
  },
  {
   "cell_type": "code",
   "execution_count": 4,
   "id": "fd44ed98-17d8-4e28-81da-d928b5ce81cb",
   "metadata": {},
   "outputs": [
    {
     "data": {
      "text/plain": [
       "<ansys.stk.core.stkobjects.DataProviderElements at 0x26414232510>"
      ]
     },
     "execution_count": 4,
     "metadata": {},
     "output_type": "execute_result"
    }
   ],
   "source": [
    "for elemaccess.data_providers.item(\"Access Data\").elements"
   ]
  },
  {
   "cell_type": "code",
   "execution_count": null,
   "id": "f49573d3-da0e-4db5-97e8-6e0e6d326633",
   "metadata": {},
   "outputs": [],
   "source": []
  }
 ],
 "metadata": {
  "kernelspec": {
   "display_name": "Python 3 (ipykernel)",
   "language": "python",
   "name": "python3"
  },
  "language_info": {
   "codemirror_mode": {
    "name": "ipython",
    "version": 3
   },
   "file_extension": ".py",
   "mimetype": "text/x-python",
   "name": "python",
   "nbconvert_exporter": "python",
   "pygments_lexer": "ipython3",
   "version": "3.13.3"
  }
 },
 "nbformat": 4,
 "nbformat_minor": 5
}
